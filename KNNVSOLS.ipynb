{
 "cells": [
  {
   "cell_type": "markdown",
   "metadata": {},
   "source": [
    "# KNN Algorithm vs OLS\n",
    "## Forecasting the academic performance in Antioquia - Colombia\n",
    "\n",
    "The goal of this notebook its determinate wich algorithm provides better results in the moment to predict the academic performance given a vector of sociodemografic variables, only two simple algorithms are compared.\n",
    "\n",
    "* Ordinary Leas Squared - OLS\n",
    "* K Nearest Neighbors - KNN\n",
    "\n",
    "The first its the K - Nearest Neighbors, is a non-parametric method, the input consists of the k closest training examples in the feature space. The prediction will be given by:\n",
    "\n",
    "$$ \\hat{Y} = \\sum_{i \\in I}\\frac{Y_{i}}{N} $$\n",
    "\n",
    "Where $I$  is a set formed by the results of K the nearest \n",
    "observations"
   ]
  },
  {
   "cell_type": "code",
   "execution_count": 112,
   "metadata": {},
   "outputs": [],
   "source": [
    "## First its necessary import the packages\n",
    "import pandas as pd\n",
    "import matplotlib.pyplot as plt\n",
    "import numpy as np\n",
    "from sklearn import linear_model\n",
    "from sklearn.model_selection import cross_val_predict\n",
    "from sklearn.model_selection import train_test_split"
   ]
  },
  {
   "cell_type": "code",
   "execution_count": 111,
   "metadata": {},
   "outputs": [],
   "source": [
    "## the data is loaded\n",
    "x_train = pd.read_excel(\"datos/huy.xlsx\")"
   ]
  },
  {
   "cell_type": "code",
   "execution_count": 3,
   "metadata": {},
   "outputs": [
    {
     "data": {
      "text/html": [
       "<div>\n",
       "<style scoped>\n",
       "    .dataframe tbody tr th:only-of-type {\n",
       "        vertical-align: middle;\n",
       "    }\n",
       "\n",
       "    .dataframe tbody tr th {\n",
       "        vertical-align: top;\n",
       "    }\n",
       "\n",
       "    .dataframe thead th {\n",
       "        text-align: right;\n",
       "    }\n",
       "</style>\n",
       "<table border=\"1\" class=\"dataframe\">\n",
       "  <thead>\n",
       "    <tr style=\"text-align: right;\">\n",
       "      <th></th>\n",
       "      <th>estu_edad</th>\n",
       "      <th>codcole</th>\n",
       "      <th>educa_padre</th>\n",
       "      <th>educa_madre</th>\n",
       "      <th>ocupa_padre</th>\n",
       "      <th>ocupa_madre</th>\n",
       "      <th>estrato</th>\n",
       "      <th>matematicas</th>\n",
       "      <th>bsex</th>\n",
       "      <th>elibros</th>\n",
       "      <th>jornada</th>\n",
       "      <th>fac</th>\n",
       "      <th>area</th>\n",
       "      <th>tipo20</th>\n",
       "    </tr>\n",
       "  </thead>\n",
       "  <tbody>\n",
       "    <tr>\n",
       "      <th>0</th>\n",
       "      <td>23</td>\n",
       "      <td>305001022666</td>\n",
       "      <td>1</td>\n",
       "      <td>4</td>\n",
       "      <td>11</td>\n",
       "      <td>10</td>\n",
       "      <td>2</td>\n",
       "      <td>38</td>\n",
       "      <td>0</td>\n",
       "      <td>1</td>\n",
       "      <td>2</td>\n",
       "      <td>1.111160</td>\n",
       "      <td>2</td>\n",
       "      <td>1</td>\n",
       "    </tr>\n",
       "    <tr>\n",
       "      <th>1</th>\n",
       "      <td>26</td>\n",
       "      <td>305001022470</td>\n",
       "      <td>9</td>\n",
       "      <td>7</td>\n",
       "      <td>2</td>\n",
       "      <td>4</td>\n",
       "      <td>4</td>\n",
       "      <td>31</td>\n",
       "      <td>1</td>\n",
       "      <td>3</td>\n",
       "      <td>1</td>\n",
       "      <td>2.073193</td>\n",
       "      <td>2</td>\n",
       "      <td>1</td>\n",
       "    </tr>\n",
       "    <tr>\n",
       "      <th>2</th>\n",
       "      <td>20</td>\n",
       "      <td>305001021741</td>\n",
       "      <td>7</td>\n",
       "      <td>7</td>\n",
       "      <td>9</td>\n",
       "      <td>9</td>\n",
       "      <td>5</td>\n",
       "      <td>44</td>\n",
       "      <td>1</td>\n",
       "      <td>2</td>\n",
       "      <td>2</td>\n",
       "      <td>2.125489</td>\n",
       "      <td>2</td>\n",
       "      <td>1</td>\n",
       "    </tr>\n",
       "    <tr>\n",
       "      <th>3</th>\n",
       "      <td>18</td>\n",
       "      <td>305001003688</td>\n",
       "      <td>9</td>\n",
       "      <td>9</td>\n",
       "      <td>8</td>\n",
       "      <td>10</td>\n",
       "      <td>6</td>\n",
       "      <td>93</td>\n",
       "      <td>0</td>\n",
       "      <td>3</td>\n",
       "      <td>1</td>\n",
       "      <td>2.492300</td>\n",
       "      <td>1</td>\n",
       "      <td>1</td>\n",
       "    </tr>\n",
       "    <tr>\n",
       "      <th>4</th>\n",
       "      <td>18</td>\n",
       "      <td>305001003688</td>\n",
       "      <td>9</td>\n",
       "      <td>9</td>\n",
       "      <td>1</td>\n",
       "      <td>10</td>\n",
       "      <td>6</td>\n",
       "      <td>63</td>\n",
       "      <td>0</td>\n",
       "      <td>3</td>\n",
       "      <td>1</td>\n",
       "      <td>2.492300</td>\n",
       "      <td>1</td>\n",
       "      <td>1</td>\n",
       "    </tr>\n",
       "  </tbody>\n",
       "</table>\n",
       "</div>"
      ],
      "text/plain": [
       "   estu_edad       codcole  educa_padre  educa_madre  ocupa_padre  \\\n",
       "0         23  305001022666            1            4           11   \n",
       "1         26  305001022470            9            7            2   \n",
       "2         20  305001021741            7            7            9   \n",
       "3         18  305001003688            9            9            8   \n",
       "4         18  305001003688            9            9            1   \n",
       "\n",
       "   ocupa_madre  estrato  matematicas  bsex  elibros  jornada       fac  area  \\\n",
       "0           10        2           38     0        1        2  1.111160     2   \n",
       "1            4        4           31     1        3        1  2.073193     2   \n",
       "2            9        5           44     1        2        2  2.125489     2   \n",
       "3           10        6           93     0        3        1  2.492300     1   \n",
       "4           10        6           63     0        3        1  2.492300     1   \n",
       "\n",
       "   tipo20  \n",
       "0       1  \n",
       "1       1  \n",
       "2       1  \n",
       "3       1  \n",
       "4       1  "
      ]
     },
     "execution_count": 3,
     "metadata": {},
     "output_type": "execute_result"
    }
   ],
   "source": [
    "## Take look at the data\n",
    "x_train.head()"
   ]
  },
  {
   "cell_type": "code",
   "execution_count": 113,
   "metadata": {},
   "outputs": [],
   "source": [
    "# the data is divided into objective variable and covariates\n",
    "y = x_train[\"matematicas\"]\n",
    "datos = x_train[['estu_edad','codcole','educa_padre','educa_madre','ocupa_padre','ocupa_madre','estrato','bsex'\n",
    "                ,'elibros','jornada','area','tipo20','fac']]"
   ]
  },
  {
   "cell_type": "code",
   "execution_count": 114,
   "metadata": {},
   "outputs": [],
   "source": [
    "# Packages associated with KNN are imported. Only KNeighborsRegressor \n",
    "# Its used\n",
    "from sklearn.cluster import KMeans\n",
    "from sklearn.neighbors import KNeighborsRegressor\n",
    "from sklearn.neighbors import KNeighborsClassifier"
   ]
  },
  {
   "cell_type": "code",
   "execution_count": 115,
   "metadata": {},
   "outputs": [],
   "source": [
    "# The training and test groups are created\n",
    "xt, xtest, yt, ytest = train_test_split(datos, y, test_size=0.1, random_state=0)"
   ]
  },
  {
   "cell_type": "code",
   "execution_count": 127,
   "metadata": {},
   "outputs": [],
   "source": [
    "# Now I do a bunch of KNN regressions, to try to find the optimal value\n",
    "# of K, I look into the R-sq in the training and in the test set \n",
    "r2train = {}\n",
    "r2test = {}\n",
    "for k in range(1,100,10):\n",
    "    knnreg = KNeighborsRegressor(n_neighbors=k,weights='uniform')\n",
    "    knnreg.fit(xt, yt)\n",
    "    r2train[k] = knnreg.score(xt, yt) # Store the regressors in a dictionary\n",
    "    r2test[k] = knnreg.score(xtest,ytest)"
   ]
  },
  {
   "cell_type": "code",
   "execution_count": 158,
   "metadata": {},
   "outputs": [
    {
     "data": {
      "image/png": "[encoded data removed]",
      "text/plain": [
       "<Figure size 432x288 with 1 Axes>"
      ]
     },
     "metadata": {},
     "output_type": "display_data"
    }
   ],
   "source": [
    "## Lets to compared the performance in a little plot\n",
    "\n",
    "lists = sorted(r2train.items()) # sorted by key, return a list of tuples\n",
    "lists2 = sorted(r2test.items()) \n",
    "x1,y1 = zip(*lists2)\n",
    "x, y = zip(*lists)\n",
    "plt.plot(x,y)\n",
    "plt.plot(x1,y1)\n",
    "plt.title('R2 Train vs Test',size = 20)\n",
    "plt.xlabel('Number of K')\n",
    "plt.ylabel('R-Squared')\n",
    "plt.show()\n"
   ]
  },
  {
   "cell_type": "markdown",
   "metadata": {},
   "source": [
    "The best fit in the test set its found around $ K = 30 $"
   ]
  },
  {
   "cell_type": "code",
   "execution_count": 162,
   "metadata": {},
   "outputs": [
    {
     "data": {
      "text/plain": [
       "KNeighborsRegressor(algorithm='auto', leaf_size=30, metric='minkowski',\n",
       "          metric_params=None, n_jobs=1, n_neighbors=30, p=2,\n",
       "          weights='uniform')"
      ]
     },
     "execution_count": 162,
     "metadata": {},
     "output_type": "execute_result"
    }
   ],
   "source": [
    "knnreg = KNeighborsRegressor(n_neighbors=30,weights='uniform')\n",
    "knnreg.fit(xt, yt)"
   ]
  },
  {
   "cell_type": "code",
   "execution_count": 163,
   "metadata": {},
   "outputs": [
    {
     "name": "stdout",
     "output_type": "stream",
     "text": [
      "R-Sq: 0.28628202576296413\n"
     ]
    },
    {
     "data": {
      "image/png": "[encoded data removed]",
      "text/plain": [
       "<Figure size 432x288 with 1 Axes>"
      ]
     },
     "metadata": {},
     "output_type": "display_data"
    }
   ],
   "source": [
    "ypredx= knnreg.predict(xtest)\n",
    "print('R-Sq:',knnreg.score(xtest,ytest))\n",
    "plt.scatter(ypredx,ytest)\n",
    "plt.title('Scatterplot:' \n",
    "          'Observed vs Predicted')\n",
    "plt.xlabel('Predicted')\n",
    "plt.ylabel('Observed')\n",
    "plt.show()"
   ]
  },
  {
   "cell_type": "markdown",
   "metadata": {},
   "source": [
    "## And what about the Overfitting\n",
    "if I set the weights of a functions of distance, the predictions in the train are almost perfect, but what happends in with the predictions in the test set?"
   ]
  },
  {
   "cell_type": "code",
   "execution_count": 176,
   "metadata": {},
   "outputs": [
    {
     "data": {
      "text/plain": [
       "KNeighborsRegressor(algorithm='auto', leaf_size=30, metric='minkowski',\n",
       "          metric_params=None, n_jobs=1, n_neighbors=30, p=2,\n",
       "          weights='distance')"
      ]
     },
     "execution_count": 176,
     "metadata": {},
     "output_type": "execute_result"
    }
   ],
   "source": [
    "knnreg = KNeighborsRegressor(n_neighbors=30,weights='distance')\n",
    "knnreg.fit(xt, yt)"
   ]
  },
  {
   "cell_type": "code",
   "execution_count": 177,
   "metadata": {},
   "outputs": [],
   "source": [
    "resid = ytest-knnreg.predict(xtest)\n",
    "resid2 = yt -knnreg.predict(xt)"
   ]
  },
  {
   "cell_type": "code",
   "execution_count": 178,
   "metadata": {},
   "outputs": [
    {
     "name": "stdout",
     "output_type": "stream",
     "text": [
      "R2 Train: 0.9942150455248782 R2 Test: 0.28458297334908433\n"
     ]
    }
   ],
   "source": [
    "print('R2 Train:', knnreg.score(xt, yt), 'R2 Test:' , knnreg.score(xtest,ytest))"
   ]
  },
  {
   "cell_type": "code",
   "execution_count": 179,
   "metadata": {},
   "outputs": [
    {
     "data": {
      "image/png": "[encoded data removed]",
      "text/plain": [
       "<Figure size 432x288 with 2 Axes>"
      ]
     },
     "metadata": {},
     "output_type": "display_data"
    }
   ],
   "source": [
    "plt.subplot(121)\n",
    "plt.title('Residuales Test')\n",
    "plt.hist(resid)\n",
    "plt.tight_layout()\n",
    "plt.subplot(122)\n",
    "plt.title('Residuales Train')\n",
    "plt.hist(resid2)\n",
    "plt.tight_layout()\n",
    "plt.show()"
   ]
  },
  {
   "cell_type": "markdown",
   "metadata": {},
   "source": [
    "# Ordinary Least Squared - OLS\n",
    "\n",
    "The idea behind this method its assume that the relationship between the covariates $(x)$ and the objetive variable $(y)$ its linear. This assumption gives a function like:\n",
    "\n",
    "$$ y = x \\beta + \\epsilon $$\n",
    "\n",
    "so the idea its to minimize the Residuals Sum Squares and that its equivalent to minimie the Mean Squared Error of the model. This method has a close form and its given by:\n",
    "\n",
    "$$ \\beta =  (x'x)^{-1}  x'y$$\n",
    "\n",
    "Another to improve the linear regression its to expand the space of covariates in order to get a more general form of the model, one way to do that its to include polynomial features. In the first part a simple OLS model its fitted and after that a model that allows polynomial features its evaluated."
   ]
  },
  {
   "cell_type": "code",
   "execution_count": 181,
   "metadata": {},
   "outputs": [],
   "source": [
    "# Two packages are imported\n",
    "from sklearn.linear_model import LinearRegression\n",
    "from sklearn.preprocessing import PolynomialFeatures"
   ]
  },
  {
   "cell_type": "code",
   "execution_count": 182,
   "metadata": {},
   "outputs": [
    {
     "name": "stdout",
     "output_type": "stream",
     "text": [
      "LinearRegression(copy_X=True, fit_intercept=True, n_jobs=-3, normalize=True)\n"
     ]
    },
    {
     "data": {
      "text/plain": [
       "0.22756561334827852"
      ]
     },
     "execution_count": 182,
     "metadata": {},
     "output_type": "execute_result"
    }
   ],
   "source": [
    "# A linear regression its estimated \n",
    "lg = LinearRegression(normalize=True,n_jobs = -3)\n",
    "print(lg.fit(xt, yt))\n",
    "lg.score(xt,yt)\n",
    "#the R2 in the training set its less that the KNN algoritm"
   ]
  },
  {
   "cell_type": "code",
   "execution_count": 15,
   "metadata": {
    "scrolled": true
   },
   "outputs": [
    {
     "data": {
      "text/plain": [
       "0.2284123906236606"
      ]
     },
     "execution_count": 15,
     "metadata": {},
     "output_type": "execute_result"
    }
   ],
   "source": [
    "ypred = lg.predict(xtest)\n",
    "lg.score(xtest,ytest)\n",
    "# The predicting power its still behin the KNN in the test set"
   ]
  },
  {
   "cell_type": "code",
   "execution_count": 49,
   "metadata": {},
   "outputs": [],
   "source": [
    "## The Polynomial features with interactions its considered \n",
    "poly = PolynomialFeatures(degree=3,interaction_only=False,include_bias=True)"
   ]
  },
  {
   "cell_type": "code",
   "execution_count": 50,
   "metadata": {},
   "outputs": [],
   "source": [
    "# The data its transformed, in this case the size of the matrix increase.\n",
    "xdata = poly.fit_transform(xt)"
   ]
  },
  {
   "cell_type": "code",
   "execution_count": 99,
   "metadata": {},
   "outputs": [
    {
     "data": {
      "text/plain": [
       "0.30880996601110944"
      ]
     },
     "execution_count": 99,
     "metadata": {},
     "output_type": "execute_result"
    }
   ],
   "source": [
    "# A new model its estimated with the new data.\n",
    "lg.fit(xdata,yt)\n",
    "lg.score(xdata,yt)\n",
    "# the Fit of the model has increas and could have a better performance than the KNN"
   ]
  },
  {
   "cell_type": "code",
   "execution_count": 52,
   "metadata": {},
   "outputs": [
    {
     "name": "stdout",
     "output_type": "stream",
     "text": [
      "0.2945867792961294\n"
     ]
    }
   ],
   "source": [
    "xdata2 = poly.fit_transform(xtest)\n",
    "print(lg.score(xdata2,ytest))\n",
    "olsp = lg.predict(xdata2)\n",
    "## The prediction in the test set its still better than the KNN"
   ]
  },
  {
   "cell_type": "markdown",
   "metadata": {},
   "source": [
    "The Polynomial approach, has a better shape than the OLS "
   ]
  },
  {
   "cell_type": "code",
   "execution_count": 53,
   "metadata": {
    "scrolled": true
   },
   "outputs": [
    {
     "data": {
      "image/png": "[encoded data removed]",
      "text/plain": [
       "<Figure size 432x288 with 2 Axes>"
      ]
     },
     "metadata": {},
     "output_type": "display_data"
    }
   ],
   "source": [
    "plt.subplot(121)\n",
    "plt.tight_layout()\n",
    "plt.title('OLS Polynomial Fit')\n",
    "plt.scatter(olsp,ytest)\n",
    "plt.subplot(122)\n",
    "plt.title('OLS Fit')\n",
    "plt.tight_layout()\n",
    "plt.scatter(ypred,ytest)\n",
    "plt.show()"
   ]
  },
  {
   "cell_type": "markdown",
   "metadata": {},
   "source": [
    "## Now lest compre the OLS Poly with KNN"
   ]
  },
  {
   "cell_type": "code",
   "execution_count": 184,
   "metadata": {},
   "outputs": [
    {
     "data": {
      "image/png": "[encoded data removed]",
      "text/plain": [
       "<Figure size 432x288 with 2 Axes>"
      ]
     },
     "metadata": {},
     "output_type": "display_data"
    }
   ],
   "source": [
    "plt.subplot(121)\n",
    "plt.tight_layout()\n",
    "plt.title('OLS Polinomial Fit')\n",
    "plt.scatter(olsp,ytest)\n",
    "plt.plot([0,100],[0,100],'r-')\n",
    "plt.subplot(122)\n",
    "plt.title('KNN Fit')\n",
    "plt.tight_layout()\n",
    "plt.scatter(ypredx,ytest)\n",
    "plt.plot([0,100],[0,100],'r-')\n",
    "plt.show()"
   ]
  },
  {
   "cell_type": "markdown",
   "metadata": {},
   "source": [
    "The KNN has a better shape there are less outliers, but its necesary to check another criteria to the determinate the best "
   ]
  },
  {
   "cell_type": "code",
   "execution_count": 92,
   "metadata": {},
   "outputs": [],
   "source": [
    "R = np.corrcoef(ypred,ypredx,rowvar=True)[1,0]\n",
    "R2 = np.corrcoef(ypred,ytest)[1,0]\n",
    "R3 = np.corrcoef(ypredx,ytest)[1,0]"
   ]
  },
  {
   "cell_type": "markdown",
   "metadata": {},
   "source": [
    "In terms of correlations the prediction of the two algorithms are similar \n",
    "\n",
    "$$ Corr \\left( \\hat{Y}_{OLS} , \\hat{Y}_{KNN} \\right) =  0.69 $$\n",
    "\n",
    "In this case they are related but in general both methods offers differents predictions. Finally to determinate wich one has the better fit to the test data I use a simple correlation coefficient. \n",
    "\n",
    "$$ Corr \\left( \\hat{Y}_{OLS} , \\hat{Y}_{test} \\right) =  0.48 $$\n",
    "$$ Corr \\left( \\hat{Y}_{KNN} , \\hat{Y}_{test} \\right) =  0.53 $$\n",
    "\n",
    "At this point we can say that the winner its the KNN algorithm, but in terms of R squared the OLS seem to have a better performance, but in generally the prediction of the academic performance seems to be a very difficult task\n",
    "\n",
    "$$ R^{2}_{KNN} =  0.286 $$\n",
    "\n",
    "$$R^{2}_{OLS} =  0.294 $$\n",
    "\n"
   ]
  },
  {
   "cell_type": "code",
   "execution_count": null,
   "metadata": {},
   "outputs": [],
   "source": []
  },
  {
   "cell_type": "code",
   "execution_count": 106,
   "metadata": {},
   "outputs": [],
   "source": []
  },
  {
   "cell_type": "code",
   "execution_count": null,
   "metadata": {},
   "outputs": [],
   "source": []
  }
 ],
 "metadata": {
  "kernelspec": {
   "display_name": "Python 3",
   "language": "python",
   "name": "python3"
  },
  "language_info": {
   "codemirror_mode": {
    "name": "ipython",
    "version": 3
   },
   "file_extension": ".py",
   "mimetype": "text/x-python",
   "name": "python",
   "nbconvert_exporter": "python",
   "pygments_lexer": "ipython3",
   "version": "3.6.6"
  }
 },
 "nbformat": 4,
 "nbformat_minor": 2
}
