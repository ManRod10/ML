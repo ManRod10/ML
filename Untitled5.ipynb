{
 "cells": [
  {
   "cell_type": "markdown",
   "metadata": {},
   "source": [
    "# KNN Algorithm vs OLS\n",
    "## Forecasting the academic performance in Antioquia - Colombia\n",
    "\n",
    "The goal of this notebook its determinate wich algorithm provides better results in the moment to predict the academic performance given a vector of sociodemografic variables, only two simple algorithms are compared. The first its the K - Nearest Neighoord, this method uses all the informaion available and computes a distance between each observation and the rest, using that the algorithm creates a neighborhood only in terms of the distance, so the prediction will be the average result of the K Nearest Neighboord in terms of the calculated distance.\n",
    "\n",
    "$$ I = \\left[ \\quad x_{j} \\quad \\in \\quad B(x_{i}) \\quad | \\quad \\forall \\quad j \\quad \\geq i \\quad \\right] $$\n",
    "\n",
    "$$ \\hat{Y} = \\sum_{i \\in I}\\frac{Y_{i}}{N} $$"
   ]
  },
  {
   "cell_type": "code",
   "execution_count": 1,
   "metadata": {},
   "outputs": [],
   "source": [
    "import pandas as pd\n",
    "import matplotlib.pyplot as plt\n",
    "import numpy as np\n",
    "from sklearn import linear_model\n",
    "from sklearn.model_selection import cross_val_predict\n",
    "from sklearn.model_selection import train_test_split"
   ]
  },
  {
   "cell_type": "code",
   "execution_count": 2,
   "metadata": {},
   "outputs": [],
   "source": [
    "x_train = pd.read_excel(\"datos/huy.xlsx\")"
   ]
  },
  {
   "cell_type": "code",
   "execution_count": 3,
   "metadata": {},
   "outputs": [
    {
     "data": {
      "text/html": [
       "<div>\n",
       "<style scoped>\n",
       "    .dataframe tbody tr th:only-of-type {\n",
       "        vertical-align: middle;\n",
       "    }\n",
       "\n",
       "    .dataframe tbody tr th {\n",
       "        vertical-align: top;\n",
       "    }\n",
       "\n",
       "    .dataframe thead th {\n",
       "        text-align: right;\n",
       "    }\n",
       "</style>\n",
       "<table border=\"1\" class=\"dataframe\">\n",
       "  <thead>\n",
       "    <tr style=\"text-align: right;\">\n",
       "      <th></th>\n",
       "      <th>estu_edad</th>\n",
       "      <th>codcole</th>\n",
       "      <th>educa_padre</th>\n",
       "      <th>educa_madre</th>\n",
       "      <th>ocupa_padre</th>\n",
       "      <th>ocupa_madre</th>\n",
       "      <th>estrato</th>\n",
       "      <th>matematicas</th>\n",
       "      <th>bsex</th>\n",
       "      <th>elibros</th>\n",
       "      <th>jornada</th>\n",
       "      <th>fac</th>\n",
       "      <th>area</th>\n",
       "      <th>tipo20</th>\n",
       "    </tr>\n",
       "  </thead>\n",
       "  <tbody>\n",
       "    <tr>\n",
       "      <th>0</th>\n",
       "      <td>23</td>\n",
       "      <td>305001022666</td>\n",
       "      <td>1</td>\n",
       "      <td>4</td>\n",
       "      <td>11</td>\n",
       "      <td>10</td>\n",
       "      <td>2</td>\n",
       "      <td>38</td>\n",
       "      <td>0</td>\n",
       "      <td>1</td>\n",
       "      <td>2</td>\n",
       "      <td>1.111160</td>\n",
       "      <td>2</td>\n",
       "      <td>1</td>\n",
       "    </tr>\n",
       "    <tr>\n",
       "      <th>1</th>\n",
       "      <td>26</td>\n",
       "      <td>305001022470</td>\n",
       "      <td>9</td>\n",
       "      <td>7</td>\n",
       "      <td>2</td>\n",
       "      <td>4</td>\n",
       "      <td>4</td>\n",
       "      <td>31</td>\n",
       "      <td>1</td>\n",
       "      <td>3</td>\n",
       "      <td>1</td>\n",
       "      <td>2.073193</td>\n",
       "      <td>2</td>\n",
       "      <td>1</td>\n",
       "    </tr>\n",
       "    <tr>\n",
       "      <th>2</th>\n",
       "      <td>20</td>\n",
       "      <td>305001021741</td>\n",
       "      <td>7</td>\n",
       "      <td>7</td>\n",
       "      <td>9</td>\n",
       "      <td>9</td>\n",
       "      <td>5</td>\n",
       "      <td>44</td>\n",
       "      <td>1</td>\n",
       "      <td>2</td>\n",
       "      <td>2</td>\n",
       "      <td>2.125489</td>\n",
       "      <td>2</td>\n",
       "      <td>1</td>\n",
       "    </tr>\n",
       "    <tr>\n",
       "      <th>3</th>\n",
       "      <td>18</td>\n",
       "      <td>305001003688</td>\n",
       "      <td>9</td>\n",
       "      <td>9</td>\n",
       "      <td>8</td>\n",
       "      <td>10</td>\n",
       "      <td>6</td>\n",
       "      <td>93</td>\n",
       "      <td>0</td>\n",
       "      <td>3</td>\n",
       "      <td>1</td>\n",
       "      <td>2.492300</td>\n",
       "      <td>1</td>\n",
       "      <td>1</td>\n",
       "    </tr>\n",
       "    <tr>\n",
       "      <th>4</th>\n",
       "      <td>18</td>\n",
       "      <td>305001003688</td>\n",
       "      <td>9</td>\n",
       "      <td>9</td>\n",
       "      <td>1</td>\n",
       "      <td>10</td>\n",
       "      <td>6</td>\n",
       "      <td>63</td>\n",
       "      <td>0</td>\n",
       "      <td>3</td>\n",
       "      <td>1</td>\n",
       "      <td>2.492300</td>\n",
       "      <td>1</td>\n",
       "      <td>1</td>\n",
       "    </tr>\n",
       "  </tbody>\n",
       "</table>\n",
       "</div>"
      ],
      "text/plain": [
       "   estu_edad       codcole  educa_padre  educa_madre  ocupa_padre  \\\n",
       "0         23  305001022666            1            4           11   \n",
       "1         26  305001022470            9            7            2   \n",
       "2         20  305001021741            7            7            9   \n",
       "3         18  305001003688            9            9            8   \n",
       "4         18  305001003688            9            9            1   \n",
       "\n",
       "   ocupa_madre  estrato  matematicas  bsex  elibros  jornada       fac  area  \\\n",
       "0           10        2           38     0        1        2  1.111160     2   \n",
       "1            4        4           31     1        3        1  2.073193     2   \n",
       "2            9        5           44     1        2        2  2.125489     2   \n",
       "3           10        6           93     0        3        1  2.492300     1   \n",
       "4           10        6           63     0        3        1  2.492300     1   \n",
       "\n",
       "   tipo20  \n",
       "0       1  \n",
       "1       1  \n",
       "2       1  \n",
       "3       1  \n",
       "4       1  "
      ]
     },
     "execution_count": 3,
     "metadata": {},
     "output_type": "execute_result"
    }
   ],
   "source": [
    "x_train.head()"
   ]
  },
  {
   "cell_type": "code",
   "execution_count": 5,
   "metadata": {},
   "outputs": [],
   "source": [
    "y = x_train[\"matematicas\"]\n",
    "datos = x_train[['estu_edad','codcole','educa_padre','educa_madre','ocupa_padre','ocupa_madre','estrato','bsex'\n",
    "                ,'elibros','jornada','area','tipo20','fac']]"
   ]
  },
  {
   "cell_type": "code",
   "execution_count": 6,
   "metadata": {},
   "outputs": [],
   "source": [
    "from sklearn.cluster import KMeans\n",
    "from sklearn.neighbors import KNeighborsRegressor\n",
    "from sklearn.neighbors import KNeighborsClassifier"
   ]
  },
  {
   "cell_type": "code",
   "execution_count": 7,
   "metadata": {},
   "outputs": [],
   "source": [
    "xt, xtest, yt, ytest = train_test_split(datos, y, test_size=0.1, random_state=0)"
   ]
  },
  {
   "cell_type": "code",
   "execution_count": 61,
   "metadata": {},
   "outputs": [
    {
     "name": "stdout",
     "output_type": "stream",
     "text": [
      "0.9878633461932363\n",
      "-0.25373035050764714\n",
      "0.39560470645455387\n",
      "0.27413491564992476\n",
      "0.35352176712620875\n",
      "0.2862124337608919\n",
      "0.3321933454421186\n",
      "0.28581095692524117\n",
      "0.31536914407158\n",
      "0.2762813147103168\n",
      "0.30189039465844636\n",
      "0.26800703941882087\n",
      "0.28881854395800866\n",
      "0.258873133697598\n",
      "0.27858484938302985\n",
      "0.24993240673015482\n",
      "0.2690723450939946\n",
      "0.24285735161539582\n",
      "0.2615652805477483\n",
      "0.23708126066934498\n",
      "0.2615652805477483\n"
     ]
    }
   ],
   "source": [
    "regdict = {}\n",
    "# Do a bunch of KNN regressions\n",
    "for k in range(1,100,10):\n",
    "    knnreg = KNeighborsRegressor(n_neighbors=k,weights='uniform')\n",
    "    knnreg.fit(xt, yt)\n",
    "    print(knnreg.score(xt, yt)) # print the R2 score in each case.\n",
    "    regdict[k] = knnreg # Store the regressors in a dictionary\n",
    "    print(knnreg.score(xtest,ytest))\n",
    "print(knnreg.score(xt,yt))"
   ]
  },
  {
   "cell_type": "code",
   "execution_count": 75,
   "metadata": {},
   "outputs": [
    {
     "data": {
      "text/plain": [
       "KNeighborsRegressor(algorithm='auto', leaf_size=30, metric='minkowski',\n",
       "          metric_params=None, n_jobs=1, n_neighbors=30, p=2,\n",
       "          weights='uniform')"
      ]
     },
     "execution_count": 75,
     "metadata": {},
     "output_type": "execute_result"
    }
   ],
   "source": [
    "knnreg = KNeighborsRegressor(n_neighbors=30,weights='uniform')\n",
    "knnreg.fit(xt, yt)"
   ]
  },
  {
   "cell_type": "code",
   "execution_count": 76,
   "metadata": {},
   "outputs": [
    {
     "name": "stdout",
     "output_type": "stream",
     "text": [
      "R-Sq: 0.28628202576296413\n"
     ]
    },
    {
     "data": {
      "image/png": "[encoded data removed]",
      "text/plain": [
       "<Figure size 432x288 with 1 Axes>"
      ]
     },
     "metadata": {},
     "output_type": "display_data"
    }
   ],
   "source": [
    "ypredx= knnreg.predict(xtest)\n",
    "print('R-Sq:',knnreg.score(xtest,ytest))\n",
    "plt.scatter(ypredx,ytest)\n",
    "plt.title('Scatterplot:' \n",
    "          'Observed vs Predicted')\n",
    "plt.xlabel('Predicted')\n",
    "plt.ylabel('Observed')\n",
    "plt.show()"
   ]
  },
  {
   "cell_type": "code",
   "execution_count": 77,
   "metadata": {},
   "outputs": [],
   "source": [
    "resid = ytest-ypredx\n",
    "resid2 = yt -knnreg.predict(xt)"
   ]
  },
  {
   "cell_type": "code",
   "execution_count": 78,
   "metadata": {},
   "outputs": [
    {
     "data": {
      "image/png": "[encoded data removed]",
      "text/plain": [
       "<Figure size 432x288 with 2 Axes>"
      ]
     },
     "metadata": {},
     "output_type": "display_data"
    }
   ],
   "source": [
    "plt.subplot(121)\n",
    "plt.title('Residuales Test')\n",
    "plt.hist(resid)\n",
    "plt.tight_layout()\n",
    "plt.subplot(122)\n",
    "plt.title('Residuales Train')\n",
    "plt.hist(resid2)\n",
    "plt.tight_layout()\n",
    "plt.show()"
   ]
  },
  {
   "cell_type": "code",
   "execution_count": 13,
   "metadata": {},
   "outputs": [],
   "source": [
    "from sklearn.preprocessing import PolynomialFeatures\n",
    "from sklearn.linear_model import LinearRegression"
   ]
  },
  {
   "cell_type": "code",
   "execution_count": 29,
   "metadata": {},
   "outputs": [
    {
     "name": "stdout",
     "output_type": "stream",
     "text": [
      "LinearRegression(copy_X=True, fit_intercept=True, n_jobs=-3, normalize=True)\n"
     ]
    },
    {
     "data": {
      "text/plain": [
       "0.22756561334827852"
      ]
     },
     "execution_count": 29,
     "metadata": {},
     "output_type": "execute_result"
    }
   ],
   "source": [
    "lg = LinearRegression(normalize=True,n_jobs = -3)\n",
    "print(lg.fit(xt, yt))\n",
    "lg.score(xt,yt)"
   ]
  },
  {
   "cell_type": "code",
   "execution_count": 15,
   "metadata": {
    "scrolled": true
   },
   "outputs": [
    {
     "data": {
      "text/plain": [
       "0.2284123906236606"
      ]
     },
     "execution_count": 15,
     "metadata": {},
     "output_type": "execute_result"
    }
   ],
   "source": [
    "ypred = lg.predict(xtest)\n",
    "lg.score(xtest,ytest)"
   ]
  },
  {
   "cell_type": "code",
   "execution_count": 49,
   "metadata": {},
   "outputs": [],
   "source": [
    "poly = PolynomialFeatures(degree=3,interaction_only=False,include_bias=True)"
   ]
  },
  {
   "cell_type": "code",
   "execution_count": 50,
   "metadata": {},
   "outputs": [],
   "source": [
    "xdata = poly.fit_transform(xt)"
   ]
  },
  {
   "cell_type": "code",
   "execution_count": 99,
   "metadata": {},
   "outputs": [
    {
     "data": {
      "text/plain": [
       "0.30880996601110944"
      ]
     },
     "execution_count": 99,
     "metadata": {},
     "output_type": "execute_result"
    }
   ],
   "source": [
    "lg.fit(xdata,yt)\n",
    "lg.score(xdata,yt)"
   ]
  },
  {
   "cell_type": "code",
   "execution_count": 52,
   "metadata": {},
   "outputs": [
    {
     "name": "stdout",
     "output_type": "stream",
     "text": [
      "0.2945867792961294\n"
     ]
    }
   ],
   "source": [
    "xdata2 = poly.fit_transform(xtest)\n",
    "print(lg.score(xdata2,ytest))\n",
    "olsp = lg.predict(xdata2)"
   ]
  },
  {
   "cell_type": "code",
   "execution_count": 53,
   "metadata": {},
   "outputs": [
    {
     "data": {
      "image/png": "[encoded data removed]",
      "text/plain": [
       "<Figure size 432x288 with 2 Axes>"
      ]
     },
     "metadata": {},
     "output_type": "display_data"
    }
   ],
   "source": [
    "plt.subplot(121)\n",
    "plt.tight_layout()\n",
    "plt.title('OLS Polinomial Fit')\n",
    "plt.scatter(olsp,ytest)\n",
    "plt.subplot(122)\n",
    "plt.title('OLS Fit')\n",
    "plt.tight_layout()\n",
    "plt.scatter(ypred,ytest)\n",
    "plt.show()"
   ]
  },
  {
   "cell_type": "code",
   "execution_count": 79,
   "metadata": {},
   "outputs": [
    {
     "data": {
      "image/png": "[encoded data removed]",
      "text/plain": [
       "<Figure size 432x288 with 2 Axes>"
      ]
     },
     "metadata": {},
     "output_type": "display_data"
    }
   ],
   "source": [
    "plt.subplot(121)\n",
    "plt.tight_layout()\n",
    "plt.title('OLS Polinomial Fit')\n",
    "plt.scatter(olsp,ytest)\n",
    "plt.plot([0,100],[0,100],'r-')\n",
    "plt.subplot(122)\n",
    "plt.title('KNN Fit')\n",
    "plt.tight_layout()\n",
    "plt.scatter(ypredx,ytest)\n",
    "plt.plot([0,100],[0,100],'r-')\n",
    "plt.show()"
   ]
  },
  {
   "cell_type": "code",
   "execution_count": 92,
   "metadata": {},
   "outputs": [],
   "source": [
    "R = np.corrcoef(ypred,ypredx,rowvar=True)[1,0]\n",
    "R2 = np.corrcoef(ypred,ytest)[1,0]\n",
    "R3 = np.corrcoef(ypredx,ytest)[1,0]"
   ]
  },
  {
   "cell_type": "markdown",
   "metadata": {},
   "source": [
    "Once have the correlations between the predictions under the two methods we can compare it and determinate if the are equal or not. \n",
    "\n",
    "$$ Corr \\left( \\hat{Y}_{OLS} , \\hat{Y}_{KNN} \\right) =  0.69 $$\n",
    "\n",
    "In this case they are related but in general both methods offers differents predictions. Finally to determinate wich one has the better fit to the test data I use a simple correlation coefficient. \n",
    "\n",
    "$$ Corr \\left( \\hat{Y}_{OLS} , \\hat{Y}_{test} \\right) =  0.48 $$\n",
    "$$ Corr \\left( \\hat{Y}_{KNN} , \\hat{Y}_{test} \\right) =  0.53 $$\n",
    "\n",
    "At this point we can say that the winner its the KNN algorithm, but in generally the prediction of the academic performance seems to be a very difficult task"
   ]
  },
  {
   "cell_type": "code",
   "execution_count": 109,
   "metadata": {},
   "outputs": [
    {
     "name": "stdout",
     "output_type": "stream",
     "text": [
      "0.2945867792961294 0.28628202576296413\n"
     ]
    }
   ],
   "source": [
    "print(lg.score(xdata2,ytest) , knnreg.score(xtest, ytest))"
   ]
  },
  {
   "cell_type": "code",
   "execution_count": 106,
   "metadata": {},
   "outputs": [],
   "source": []
  },
  {
   "cell_type": "code",
   "execution_count": null,
   "metadata": {},
   "outputs": [],
   "source": []
  }
 ],
 "metadata": {
  "kernelspec": {
   "display_name": "Python 3",
   "language": "python",
   "name": "python3"
  },
  "language_info": {
   "codemirror_mode": {
    "name": "ipython",
    "version": 3
   },
   "file_extension": ".py",
   "mimetype": "text/x-python",
   "name": "python",
   "nbconvert_exporter": "python",
   "pygments_lexer": "ipython3",
   "version": "3.6.6"
  }
 },
 "nbformat": 4,
 "nbformat_minor": 2
}
